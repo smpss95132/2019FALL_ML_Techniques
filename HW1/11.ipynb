{
 "cells": [
  {
   "cell_type": "markdown",
   "metadata": {},
   "source": [
    "import pandas as pd\n",
    "import io\n",
    "import requests\n",
    "import numpy as np\n",
    "from sklearn import svm\n",
    "import matplotlib.pyplot as plt"
   ]
  },
  {
   "cell_type": "code",
   "execution_count": 2,
   "metadata": {},
   "outputs": [],
   "source": [
    "train_url = \"http://www.amlbook.com/data/zip/features.train\"\n",
    "test_url = \"http://www.amlbook.com/data/zip/features.test\""
   ]
  },
  {
   "cell_type": "code",
   "execution_count": 3,
   "metadata": {},
   "outputs": [],
   "source": [
    "def URL_to_dataframe(url):\n",
    "    s = requests.get(url).content\n",
    "    c = pd.read_csv(io.StringIO(s.decode('utf-8')), header=None, delim_whitespace=True)\n",
    "    \n",
    "    return c"
   ]
  },
  {
   "cell_type": "code",
   "execution_count": 4,
   "metadata": {},
   "outputs": [],
   "source": [
    "def scaling(all_feature, train_number):\n",
    "    intensity = np.interp(all_feature[:,0],(all_feature[:,0].min(), all_feature[:,0].max()), (0,1))\n",
    "    symmetry = np.interp(all_feature[:,1],(all_feature[:,1].min(), all_feature[:,1].max()), (0,1))\n",
    "    print(intensity.shape)\n",
    "    print(symmetry.shape)\n",
    "    processed = np.concatenate((intensity.reshape(-1,1), symmetry.reshape(-1,1)), axis=1)\n",
    "    \n",
    "    return processed[:train_number,:], processed[train_number:,:]"
   ]
  },
  {
   "cell_type": "code",
   "execution_count": 5,
   "metadata": {},
   "outputs": [],
   "source": [
    "def binary_label(label, target_label):\n",
    "    target_position = (label==target_label)\n",
    "    label = label*0\n",
    "    label[target_position] = 1\n",
    "    \n",
    "    return label"
   ]
  },
  {
   "cell_type": "code",
   "execution_count": 6,
   "metadata": {},
   "outputs": [],
   "source": [
    "def get_weight(y_alpha, SVs):\n",
    "    y_alpha = y_alpha.reshape(-1,1)\n",
    "    weight_matrix = np.zeros((y_alpha.shape[0], 2))\n",
    "    for i in range(SVs.shape[0]):\n",
    "        weight_matrix[i,0:2] = SVs[i,0:2]\n",
    "    \n",
    "    weight_sv = y_alpha * weight_matrix\n",
    "    weight = np.sum(weight_sv, axis=0)\n",
    "    \n",
    "    return weight"
   ]
  },
  {
   "cell_type": "code",
   "execution_count": 7,
   "metadata": {},
   "outputs": [],
   "source": [
    "train_df = URL_to_dataframe(train_url)\n",
    "test_df = URL_to_dataframe(test_url)"
   ]
  },
  {
   "cell_type": "code",
   "execution_count": 8,
   "metadata": {},
   "outputs": [],
   "source": [
    "train_np = train_df.to_numpy()\n",
    "test_np = test_df.to_numpy()"
   ]
  },
  {
   "cell_type": "code",
   "execution_count": 9,
   "metadata": {},
   "outputs": [],
   "source": [
    "train_feature = train_np[:,1:3]\n",
    "train_label = train_np[:,0]\n",
    "test_feature = test_np[:,1:3]\n",
    "test_label = test_np[:,0]"
   ]
  },
  {
   "cell_type": "code",
   "execution_count": 10,
   "metadata": {},
   "outputs": [],
   "source": [
    "train_label = binary_label(train_label, 0)\n",
    "test_label = binary_label(test_label, 0)"
   ]
  },
  {
   "cell_type": "code",
   "execution_count": 11,
   "metadata": {},
   "outputs": [
    {
     "name": "stdout",
     "output_type": "stream",
     "text": [
      "(7291, 2)\n",
      "(7291,)\n",
      "(2007, 2)\n",
      "(2007,)\n"
     ]
    }
   ],
   "source": [
    "print(train_feature.shape)\n",
    "print(train_label.shape)\n",
    "print(test_feature.shape)\n",
    "print(test_label.shape)"
   ]
  },
  {
   "cell_type": "code",
   "execution_count": 12,
   "metadata": {},
   "outputs": [
    {
     "name": "stdout",
     "output_type": "stream",
     "text": [
      "1e-05\n",
      "0.001\n",
      "0.1\n",
      "10.0\n",
      "1000.0\n"
     ]
    },
    {
     "data": {
      "text/plain": [
       "Text(0, 0.5, '|w|')"
      ]
     },
     "execution_count": 12,
     "metadata": {},
     "output_type": "execute_result"
    },
    {
     "data": {
      "image/png": "[encoded data removed]",
      "text/plain": [
       "<Figure size 432x288 with 1 Axes>"
      ]
     },
     "metadata": {
      "needs_background": "light"
     },
     "output_type": "display_data"
    }
   ],
   "source": [
    "# 11\n",
    "c_list = [1e-5, 1e-3, 1e-1, 1e1, 1e3]\n",
    "log10c_list = [-5,-3,-1,1,3]\n",
    "w_length_list = []\n",
    "\n",
    "for c in c_list:\n",
    "    print(c)\n",
    "    clf = svm.SVC(C=c, kernel='linear')\n",
    "    clf.fit(train_feature, train_label)\n",
    "    \n",
    "    y_alpha = clf.dual_coef_\n",
    "    SVs = clf.support_vectors_\n",
    "    weight = get_weight(y_alpha, SVs)\n",
    "    w_length_list.append(np.sqrt(np.sum(weight*weight)))\n",
    "    \n",
    "plt.plot(log10c_list, w_length_list)\n",
    "plt.xlabel('c')\n",
    "plt.ylabel('|w|')"
   ]
  }
 ],
 "metadata": {
  "kernelspec": {
   "display_name": "Python 3",
   "language": "python",
   "name": "python3"
  },
  "language_info": {
   "codemirror_mode": {
    "name": "ipython",
    "version": 3
   },
   "file_extension": ".py",
   "mimetype": "text/x-python",
   "name": "python",
   "nbconvert_exporter": "python",
   "pygments_lexer": "ipython3",
   "version": "3.6.10"
  }
 },
 "nbformat": 4,
 "nbformat_minor": 4
}
