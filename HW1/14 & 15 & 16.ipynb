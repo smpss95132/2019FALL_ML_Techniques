{
 "cells": [
  {
   "cell_type": "code",
   "execution_count": 1,
   "metadata": {},
   "outputs": [],
   "source": [
    "import pandas as pd\n",
    "import io\n",
    "import requests\n",
    "import numpy as np\n",
    "from sklearn import svm\n",
    "import matplotlib.pyplot as plt"
   ]
  },
  {
   "cell_type": "code",
   "execution_count": 2,
   "metadata": {},
   "outputs": [],
   "source": [
    "train_url = \"http://www.amlbook.com/data/zip/features.train\"\n",
    "test_url = \"http://www.amlbook.com/data/zip/features.test\""
   ]
  },
  {
   "cell_type": "code",
   "execution_count": 3,
   "metadata": {},
   "outputs": [],
   "source": [
    "def URL_to_dataframe(url):\n",
    "    s = requests.get(url).content\n",
    "    c = pd.read_csv(io.StringIO(s.decode('utf-8')), header=None, delim_whitespace=True)\n",
    "    \n",
    "    return c"
   ]
  },
  {
   "cell_type": "code",
   "execution_count": 4,
   "metadata": {},
   "outputs": [],
   "source": [
    "def scaling(all_feature, train_number):\n",
    "    intensity = np.interp(all_feature[:,0],(all_feature[:,0].min(), all_feature[:,0].max()), (0,1))\n",
    "    symmetry = np.interp(all_feature[:,1],(all_feature[:,1].min(), all_feature[:,1].max()), (0,1))\n",
    "    print(intensity.shape)\n",
    "    print(symmetry.shape)\n",
    "    processed = np.concatenate((intensity.reshape(-1,1), symmetry.reshape(-1,1)), axis=1)\n",
    "    \n",
    "    return processed[:train_number,:], processed[train_number:,:]"
   ]
  },
  {
   "cell_type": "code",
   "execution_count": 5,
   "metadata": {},
   "outputs": [],
   "source": [
    "def binary_label(label, target_label):\n",
    "    target_position = (label==target_label)\n",
    "    label = label*0\n",
    "    label[target_position] = 1\n",
    "    \n",
    "    return label"
   ]
  },
  {
   "cell_type": "code",
   "execution_count": 6,
   "metadata": {},
   "outputs": [],
   "source": [
    "def get_weight(y_alpha, SVs, dim):\n",
    "    y_alpha = y_alpha.reshape(-1,1)\n",
    "    weight_matrix = np.zeros((y_alpha.shape[0], dim))\n",
    "    weight_matrix[:,0] = 1.0\n",
    "    for i in range(SVs.shape[0]):\n",
    "        weight_matrix[i,1:dim] = SVs[i,0:dim]\n",
    "    \n",
    "    weight_sv = y_alpha * weight_matrix\n",
    "    weight = np.sum(weight_sv, axis=0)\n",
    "    \n",
    "    return weight"
   ]
  },
  {
   "cell_type": "code",
   "execution_count": 7,
   "metadata": {},
   "outputs": [],
   "source": [
    "def rbf_kernel(x1, x2, gamma):\n",
    "    return np.exp(-gamma * np.sum((x1-x2)**2))"
   ]
  },
  {
   "cell_type": "code",
   "execution_count": 8,
   "metadata": {},
   "outputs": [],
   "source": [
    "train_df = URL_to_dataframe(train_url)\n",
    "test_df = URL_to_dataframe(test_url)"
   ]
  },
  {
   "cell_type": "code",
   "execution_count": 9,
   "metadata": {},
   "outputs": [],
   "source": [
    "train_np = train_df.to_numpy()\n",
    "test_np = test_df.to_numpy()"
   ]
  },
  {
   "cell_type": "code",
   "execution_count": 10,
   "metadata": {},
   "outputs": [],
   "source": [
    "train_feature = train_np[:,1:3]\n",
    "train_label = train_np[:,0]\n",
    "test_feature = test_np[:,1:3]\n",
    "test_label = test_np[:,0]"
   ]
  },
  {
   "cell_type": "code",
   "execution_count": 11,
   "metadata": {},
   "outputs": [
    {
     "name": "stdout",
     "output_type": "stream",
     "text": [
      "(7291, 2)\n",
      "(7291,)\n",
      "(2007, 2)\n",
      "(2007,)\n"
     ]
    }
   ],
   "source": [
    "print(train_feature.shape)\n",
    "print(train_label.shape)\n",
    "print(test_feature.shape)\n",
    "print(test_label.shape)"
   ]
  },
  {
   "cell_type": "code",
   "execution_count": 12,
   "metadata": {},
   "outputs": [],
   "source": [
    "train_label = binary_label(train_label, 0)\n",
    "test_label = binary_label(test_label, 0)"
   ]
  },
  {
   "cell_type": "code",
   "execution_count": 13,
   "metadata": {},
   "outputs": [
    {
     "name": "stdout",
     "output_type": "stream",
     "text": [
      "0.001\n",
      "0.01\n",
      "0.1\n",
      "1.0\n",
      "10.0\n"
     ]
    }
   ],
   "source": [
    "# 14\n",
    "c_list = [1e-3, 1e-2, 1e-1, 1e0, 1e1]\n",
    "log10c_list = [-3, -2, -1, 0, 1]\n",
    "Margin_length_list = []\n",
    "\n",
    "for c in c_list:\n",
    "    print(c)\n",
    "    clf = svm.SVC(C=c, kernel='rbf', gamma= 80)\n",
    "    clf.fit(train_feature, train_label)\n",
    "    SVs = clf.support_vectors_\n",
    "    sv = clf.support_vectors_[0].reshape(-1,2)\n",
    "    w_norm = np.linalg.norm(clf.dual_coef_)\n",
    "    Margin_length_list.append(abs(clf.decision_function(sv))/w_norm)"
   ]
  },
  {
   "cell_type": "code",
   "execution_count": 14,
   "metadata": {
    "scrolled": true
   },
   "outputs": [
    {
     "data": {
      "text/plain": [
       "Text(0, 0.5, 'distance of any free support vector to the hyperplan')"
      ]
     },
     "execution_count": 14,
     "metadata": {},
     "output_type": "execute_result"
    },
    {
     "data": {
      "image/png": "[encoded data removed]",
      "text/plain": [
       "<Figure size 432x288 with 1 Axes>"
      ]
     },
     "metadata": {
      "needs_background": "light"
     },
     "output_type": "display_data"
    }
   ],
   "source": [
    "plt.plot(log10c_list, Margin_length_list)\n",
    "plt.xlabel('c')\n",
    "plt.ylabel('distance of any free support vector to the hyperplan')"
   ]
  },
  {
   "cell_type": "code",
   "execution_count": 15,
   "metadata": {},
   "outputs": [
    {
     "name": "stdout",
     "output_type": "stream",
     "text": [
      "0.001\n",
      "0.01\n",
      "0.1\n",
      "1.0\n",
      "10.0\n"
     ]
    }
   ],
   "source": [
    "# 14'\n",
    "c_list = [1e-3, 1e-2, 1e-1, 1e0, 1e1]\n",
    "log10c_list = [-3, -2, -1, 0, 1]\n",
    "Margin_length_list = []\n",
    "\n",
    "for c in c_list:\n",
    "    print(c)\n",
    "    clf = svm.SVC(C=c, kernel='rbf', gamma= 80)\n",
    "    clf.fit(train_feature, train_label)\n",
    "    SVs_feature = clf.support_vectors_\n",
    "    SVs_label = train_label[clf.support_]\n",
    "    alpha = np.abs(clf.dual_coef_.reshape(-1))\n",
    "    w_square = 0.0 \n",
    "    for i in range(len(alpha)):\n",
    "        for j in range(len(alpha)):\n",
    "            w_square += alpha[i] * alpha[j] * SVs_label[i] * SVs_label[j] * rbf_kernel(train_feature[i], train_feature[j], 80)\n",
    "    Margin_length_list.append(1. / np.sqrt(w_square))"
   ]
  },
  {
   "cell_type": "code",
   "execution_count": 16,
   "metadata": {},
   "outputs": [
    {
     "data": {
      "text/plain": [
       "Text(0, 0.5, 'distance of any free support vector to the hyperplan')"
      ]
     },
     "execution_count": 16,
     "metadata": {},
     "output_type": "execute_result"
    },
    {
     "data": {
      "image/png": "[encoded data removed]",
      "text/plain": [
       "<Figure size 432x288 with 1 Axes>"
      ]
     },
     "metadata": {
      "needs_background": "light"
     },
     "output_type": "display_data"
    }
   ],
   "source": [
    "plt.plot(log10c_list, Margin_length_list)\n",
    "plt.xlabel('c')\n",
    "plt.ylabel('distance of any free support vector to the hyperplan')"
   ]
  },
  {
   "cell_type": "code",
   "execution_count": 17,
   "metadata": {},
   "outputs": [],
   "source": [
    "# 15\n",
    "gamma_list = [1e0, 1e1, 1e2, 1e3, 1e4]\n",
    "log10_gamma_list = [0, 1, 2, 3, 4]\n",
    "Eout_list = []\n",
    "\n",
    "for gamma in gamma_list:\n",
    "    clf = svm.SVC(C=0.1, kernel='rbf', gamma=gamma)\n",
    "    clf.fit(train_feature, train_label)\n",
    "    \n",
    "    Eout_list.append(1.0 - clf.score(test_feature, test_label))"
   ]
  },
  {
   "cell_type": "code",
   "execution_count": 18,
   "metadata": {},
   "outputs": [
    {
     "data": {
      "text/plain": [
       "Text(0, 0.5, 'Eout')"
      ]
     },
     "execution_count": 18,
     "metadata": {},
     "output_type": "execute_result"
    },
    {
     "data": {
      "image/png": "[encoded data removed]",
      "text/plain": [
       "<Figure size 432x288 with 1 Axes>"
      ]
     },
     "metadata": {
      "needs_background": "light"
     },
     "output_type": "display_data"
    }
   ],
   "source": [
    "plt.plot(log10_gamma_list, Eout_list)\n",
    "plt.xlabel('gamma')\n",
    "plt.ylabel('Eout')"
   ]
  },
  {
   "cell_type": "code",
   "execution_count": 19,
   "metadata": {
    "scrolled": true
   },
   "outputs": [
    {
     "name": "stdout",
     "output_type": "stream",
     "text": [
      "iter 0\n",
      "iter 1\n",
      "iter 2\n",
      "iter 3\n",
      "iter 4\n",
      "iter 5\n",
      "iter 6\n",
      "iter 7\n",
      "iter 8\n",
      "iter 9\n",
      "iter 10\n",
      "iter 11\n",
      "iter 12\n",
      "iter 13\n",
      "iter 14\n",
      "iter 15\n",
      "iter 16\n",
      "iter 17\n",
      "iter 18\n",
      "iter 19\n",
      "iter 20\n",
      "iter 21\n",
      "iter 22\n",
      "iter 23\n",
      "iter 24\n",
      "iter 25\n",
      "iter 26\n",
      "iter 27\n",
      "iter 28\n",
      "iter 29\n",
      "iter 30\n",
      "iter 31\n",
      "iter 32\n",
      "iter 33\n",
      "iter 34\n",
      "iter 35\n",
      "iter 36\n",
      "iter 37\n",
      "iter 38\n",
      "iter 39\n",
      "iter 40\n",
      "iter 41\n",
      "iter 42\n",
      "iter 43\n",
      "iter 44\n",
      "iter 45\n",
      "iter 46\n",
      "iter 47\n",
      "iter 48\n",
      "iter 49\n",
      "iter 50\n",
      "iter 51\n",
      "iter 52\n",
      "iter 53\n",
      "iter 54\n",
      "iter 55\n",
      "iter 56\n",
      "iter 57\n",
      "iter 58\n",
      "iter 59\n",
      "iter 60\n",
      "iter 61\n",
      "iter 62\n",
      "iter 63\n",
      "iter 64\n",
      "iter 65\n",
      "iter 66\n",
      "iter 67\n",
      "iter 68\n",
      "iter 69\n",
      "iter 70\n",
      "iter 71\n",
      "iter 72\n",
      "iter 73\n",
      "iter 74\n",
      "iter 75\n",
      "iter 76\n",
      "iter 77\n",
      "iter 78\n",
      "iter 79\n",
      "iter 80\n",
      "iter 81\n",
      "iter 82\n",
      "iter 83\n",
      "iter 84\n",
      "iter 85\n",
      "iter 86\n",
      "iter 87\n",
      "iter 88\n",
      "iter 89\n",
      "iter 90\n",
      "iter 91\n",
      "iter 92\n",
      "iter 93\n",
      "iter 94\n",
      "iter 95\n",
      "iter 96\n",
      "iter 97\n",
      "iter 98\n",
      "iter 99\n"
     ]
    }
   ],
   "source": [
    "# 16\n",
    "gamma_list = [1e-1, 1e0, 1e1, 1e2, 1e3]\n",
    "log10_gamma_list = [-1, 0, 1, 2, 3]\n",
    "best_log10_gamma = []\n",
    "\n",
    "for i in range(100):\n",
    "    print(\"iter\", i)\n",
    "    permutation = np.random.permutation(train_feature.shape[0]) - 1\n",
    "    train_permutation = permutation[1000:]\n",
    "    val_permutation = permutation[:1000]\n",
    "    \n",
    "    temp_train_feature = train_feature[train_permutation]\n",
    "    temp_train_label = train_label[train_permutation]\n",
    "    val_feature = train_feature[val_permutation]\n",
    "    val_label = train_label[val_permutation]\n",
    "\n",
    "    highest_acc = 0\n",
    "    highest_gamma = 0\n",
    "    for j in range(5):\n",
    "        clf = svm.SVC(C=0.1, kernel='rbf', gamma=gamma_list[j])\n",
    "        clf.fit(temp_train_feature, temp_train_label)\n",
    "        temp_acc = clf.score(val_feature, val_label)\n",
    "        \n",
    "        if temp_acc > highest_acc:\n",
    "            highest_acc = temp_acc\n",
    "            highest_gamma = log10_gamma_list[j]\n",
    "    best_log10_gamma.append(highest_gamma)"
   ]
  },
  {
   "cell_type": "code",
   "execution_count": 21,
   "metadata": {},
   "outputs": [
    {
     "name": "stdout",
     "output_type": "stream",
     "text": [
      "[1, 0, 1, 1, 1, 2, 2, 1, 1, 1, 2, 1, 0, 1, 1, 2, 2, 1, 1, 1, 2, 1, 1, 1, 1, 1, 1, 1, 2, 1, 0, 1, 2, 1, 1, 1, 2, 1, 1, 0, 1, 1, 1, 1, 1, 1, 1, 1, 1, 1, 1, 1, 1, 1, 1, 1, 2, 1, 1, 1, 1, 1, 1, 1, 1, 1, 2, 1, 0, 1, 1, 1, 1, 2, 1, 1, 1, 1, 1, 1, 1, 1, 1, 1, 2, 1, 0, 1, 1, 1, 1, 1, 1, 1, 1, 1, 1, 1, 2, 2]\n"
     ]
    }
   ],
   "source": [
    "print(best_log10_gamma)\n",
    "best_log10_gamma = best_log10_gamma"
   ]
  },
  {
   "cell_type": "code",
   "execution_count": 22,
   "metadata": {},
   "outputs": [],
   "source": [
    "data = {}\n",
    "for log10c in log10_gamma_list:\n",
    "    temp = best_log10_gamma.count(log10c)\n",
    "    data[str(log10c)] = temp"
   ]
  },
  {
   "cell_type": "code",
   "execution_count": 23,
   "metadata": {},
   "outputs": [
    {
     "name": "stdout",
     "output_type": "stream",
     "text": [
      "{'-1': 0, '0': 6, '1': 79, '2': 15, '3': 0}\n"
     ]
    }
   ],
   "source": [
    "print(data)"
   ]
  },
  {
   "cell_type": "code",
   "execution_count": 24,
   "metadata": {},
   "outputs": [
    {
     "data": {
      "text/plain": [
       "Text(0.5, 0.98, 'Categorical Plotting')"
      ]
     },
     "execution_count": 24,
     "metadata": {},
     "output_type": "execute_result"
    },
    {
     "data": {
      "image/png": "[encoded data removed]",
      "text/plain": [
       "<Figure size 648x216 with 3 Axes>"
      ]
     },
     "metadata": {
      "needs_background": "light"
     },
     "output_type": "display_data"
    }
   ],
   "source": [
    "names = list(data.keys())\n",
    "values = list(data.values())\n",
    "\n",
    "fig, axs = plt.subplots(1, 3, figsize=(9, 3), sharey=True)\n",
    "axs[0].bar(names, values)\n",
    "\n",
    "fig.suptitle('Categorical Plotting')"
   ]
  }
 ],
 "metadata": {
  "kernelspec": {
   "display_name": "Python 3",
   "language": "python",
   "name": "python3"
  },
  "language_info": {
   "codemirror_mode": {
    "name": "ipython",
    "version": 3
   },
   "file_extension": ".py",
   "mimetype": "text/x-python",
   "name": "python",
   "nbconvert_exporter": "python",
   "pygments_lexer": "ipython3",
   "version": "3.6.10"
  }
 },
 "nbformat": 4,
 "nbformat_minor": 4
}
