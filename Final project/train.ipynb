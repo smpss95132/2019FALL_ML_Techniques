{
 "cells": [
  {
   "cell_type": "code",
   "execution_count": 1,
   "metadata": {},
   "outputs": [],
   "source": [
    "import pandas as pd\n",
    "import numpy as np\n",
    "from sklearn.model_selection import StratifiedKFold\n",
    "import glob \n",
    "from tqdm.notebook import tqdm\n",
    "from torch.utils.data import Dataset, DataLoader\n",
    "import random\n",
    "import os\n",
    "from PIL import Image\n",
    "import torch\n",
    "from torchvision import transforms\n",
    "import torchvision.models as models\n",
    "import torch.nn as nn\n",
    "import os\n",
    "from datetime import datetime\n",
    "import time"
   ]
  },
  {
   "cell_type": "code",
   "execution_count": 2,
   "metadata": {},
   "outputs": [],
   "source": [
    "# basic parameter\n",
    "grade2class={'A':0, 'B':1, 'C':2}\n",
    "FOLD_NUMBER = 0 # the validation fold index\n",
    "NUMBER_OF_CLASSES = 3\n",
    "TRAIN_ROOT_PATH = '../data/preprocess/all'"
   ]
  },
  {
   "cell_type": "code",
   "execution_count": 3,
   "metadata": {},
   "outputs": [],
   "source": [
    "# hyper parameter\n",
    "class TrainGlobalConfig:\n",
    "    # basic setting\n",
    "    batch_size = 12\n",
    "    n_epochs = 40 \n",
    "    lr = 0.001\n",
    "\n",
    "    folder = 'model_bins/EfficientNet_B0'   # path to save trained model\n",
    "    \n",
    "    # wether to print out information\n",
    "    verbose = True          \n",
    "    verbose_step = 1       \n",
    "    \n",
    "    # scheduler parameter\n",
    "    step_scheduler = False  # do scheduler.step after optimizer.step\n",
    "    validation_scheduler = True  # do scheduler.step after validation stage loss\n",
    "    \n",
    "    SchedulerClass = torch.optim.lr_scheduler.ReduceLROnPlateau\n",
    "    scheduler_params = dict(\n",
    "        mode='min',             # The being monitored matric should going down(min)/up(max)\n",
    "        factor=0.1,             # new_lr = factor * lr\n",
    "        patience=1,             # If the monitored matric do not goes down/up for continuse \"patient\" epochs\n",
    "                                # update the learning rate\n",
    "        verbose=False,          # Wether the print out message\n",
    "        threshold=0.0001,       # Threshold for measuring the new optimum, to only focus on significant changes\n",
    "        threshold_mode='abs',   # Inprovement = best - threshold\n",
    "        cooldown=0,             # After turn down the lr, freeze lr for \"cooldown\" epoch\n",
    "        min_lr=1e-7,\n",
    "        eps=1e-08               # The minimin value that learning rate decay\n",
    "    )"
   ]
  },
  {
   "cell_type": "code",
   "execution_count": 4,
   "metadata": {},
   "outputs": [],
   "source": [
    "# read csv file\n",
    "all_df = pd.read_csv('/home/zxcvbn7222/machine_learning/芒果2.0/data/preprocess/all.csv')"
   ]
  },
  {
   "cell_type": "code",
   "execution_count": 5,
   "metadata": {},
   "outputs": [
    {
     "name": "stdout",
     "output_type": "stream",
     "text": [
      "(52000, 9)\n"
     ]
    },
    {
     "data": {
      "text/html": [
       "<div>\n",
       "<style scoped>\n",
       "    .dataframe tbody tr th:only-of-type {\n",
       "        vertical-align: middle;\n",
       "    }\n",
       "\n",
       "    .dataframe tbody tr th {\n",
       "        vertical-align: top;\n",
       "    }\n",
       "\n",
       "    .dataframe thead th {\n",
       "        text-align: right;\n",
       "    }\n",
       "</style>\n",
       "<table border=\"1\" class=\"dataframe\">\n",
       "  <thead>\n",
       "    <tr style=\"text-align: right;\">\n",
       "      <th></th>\n",
       "      <th>Unnamed: 0</th>\n",
       "      <th>image_id</th>\n",
       "      <th>grade</th>\n",
       "      <th>pos_x</th>\n",
       "      <th>pos_y</th>\n",
       "      <th>width</th>\n",
       "      <th>height</th>\n",
       "      <th>area</th>\n",
       "      <th>square ratio</th>\n",
       "    </tr>\n",
       "  </thead>\n",
       "  <tbody>\n",
       "    <tr>\n",
       "      <th>0</th>\n",
       "      <td>0</td>\n",
       "      <td>31191.jpg</td>\n",
       "      <td>A</td>\n",
       "      <td>345</td>\n",
       "      <td>95</td>\n",
       "      <td>516</td>\n",
       "      <td>530</td>\n",
       "      <td>273480</td>\n",
       "      <td>1.027132</td>\n",
       "    </tr>\n",
       "    <tr>\n",
       "      <th>1</th>\n",
       "      <td>1</td>\n",
       "      <td>77679.jpg</td>\n",
       "      <td>A</td>\n",
       "      <td>310</td>\n",
       "      <td>73</td>\n",
       "      <td>569</td>\n",
       "      <td>520</td>\n",
       "      <td>295880</td>\n",
       "      <td>1.094231</td>\n",
       "    </tr>\n",
       "    <tr>\n",
       "      <th>2</th>\n",
       "      <td>2</td>\n",
       "      <td>71334.jpg</td>\n",
       "      <td>B</td>\n",
       "      <td>215</td>\n",
       "      <td>153</td>\n",
       "      <td>507</td>\n",
       "      <td>504</td>\n",
       "      <td>255528</td>\n",
       "      <td>1.005952</td>\n",
       "    </tr>\n",
       "    <tr>\n",
       "      <th>3</th>\n",
       "      <td>3</td>\n",
       "      <td>17095.jpg</td>\n",
       "      <td>A</td>\n",
       "      <td>265</td>\n",
       "      <td>76</td>\n",
       "      <td>598</td>\n",
       "      <td>576</td>\n",
       "      <td>344448</td>\n",
       "      <td>1.038194</td>\n",
       "    </tr>\n",
       "    <tr>\n",
       "      <th>4</th>\n",
       "      <td>4</td>\n",
       "      <td>48491.jpg</td>\n",
       "      <td>A</td>\n",
       "      <td>281</td>\n",
       "      <td>148</td>\n",
       "      <td>525</td>\n",
       "      <td>554</td>\n",
       "      <td>290850</td>\n",
       "      <td>1.055238</td>\n",
       "    </tr>\n",
       "  </tbody>\n",
       "</table>\n",
       "</div>"
      ],
      "text/plain": [
       "   Unnamed: 0   image_id grade  pos_x  pos_y  width  height    area  \\\n",
       "0           0  31191.jpg     A    345     95    516     530  273480   \n",
       "1           1  77679.jpg     A    310     73    569     520  295880   \n",
       "2           2  71334.jpg     B    215    153    507     504  255528   \n",
       "3           3  17095.jpg     A    265     76    598     576  344448   \n",
       "4           4  48491.jpg     A    281    148    525     554  290850   \n",
       "\n",
       "   square ratio  \n",
       "0      1.027132  \n",
       "1      1.094231  \n",
       "2      1.005952  \n",
       "3      1.038194  \n",
       "4      1.055238  "
      ]
     },
     "execution_count": 5,
     "metadata": {},
     "output_type": "execute_result"
    }
   ],
   "source": [
    "print(all_df.shape)\n",
    "all_df.head()"
   ]
  },
  {
   "cell_type": "code",
   "execution_count": 6,
   "metadata": {},
   "outputs": [],
   "source": [
    "# for 5-Folds cross-validato\n",
    "skf = StratifiedKFold(n_splits=5, shuffle=True, random_state=42)"
   ]
  },
  {
   "cell_type": "code",
   "execution_count": 7,
   "metadata": {},
   "outputs": [],
   "source": [
    "# assign fold index to all sample\n",
    "all_df.loc[:, 'fold'] = 0\n",
    "for fold_number, (train_index, val_index) in enumerate(skf.split(X=all_df.image_id, y=all_df.grade)):\n",
    "    all_df.loc[all_df.iloc[val_index].index, 'fold'] = fold_number"
   ]
  },
  {
   "cell_type": "code",
   "execution_count": 8,
   "metadata": {},
   "outputs": [
    {
     "data": {
      "text/html": [
       "<div>\n",
       "<style scoped>\n",
       "    .dataframe tbody tr th:only-of-type {\n",
       "        vertical-align: middle;\n",
       "    }\n",
       "\n",
       "    .dataframe tbody tr th {\n",
       "        vertical-align: top;\n",
       "    }\n",
       "\n",
       "    .dataframe thead th {\n",
       "        text-align: right;\n",
       "    }\n",
       "</style>\n",
       "<table border=\"1\" class=\"dataframe\">\n",
       "  <thead>\n",
       "    <tr style=\"text-align: right;\">\n",
       "      <th></th>\n",
       "      <th>Unnamed: 0</th>\n",
       "      <th>image_id</th>\n",
       "      <th>grade</th>\n",
       "      <th>pos_x</th>\n",
       "      <th>pos_y</th>\n",
       "      <th>width</th>\n",
       "      <th>height</th>\n",
       "      <th>area</th>\n",
       "      <th>square ratio</th>\n",
       "      <th>fold</th>\n",
       "    </tr>\n",
       "  </thead>\n",
       "  <tbody>\n",
       "    <tr>\n",
       "      <th>0</th>\n",
       "      <td>0</td>\n",
       "      <td>31191.jpg</td>\n",
       "      <td>A</td>\n",
       "      <td>345</td>\n",
       "      <td>95</td>\n",
       "      <td>516</td>\n",
       "      <td>530</td>\n",
       "      <td>273480</td>\n",
       "      <td>1.027132</td>\n",
       "      <td>3</td>\n",
       "    </tr>\n",
       "    <tr>\n",
       "      <th>1</th>\n",
       "      <td>1</td>\n",
       "      <td>77679.jpg</td>\n",
       "      <td>A</td>\n",
       "      <td>310</td>\n",
       "      <td>73</td>\n",
       "      <td>569</td>\n",
       "      <td>520</td>\n",
       "      <td>295880</td>\n",
       "      <td>1.094231</td>\n",
       "      <td>4</td>\n",
       "    </tr>\n",
       "    <tr>\n",
       "      <th>2</th>\n",
       "      <td>2</td>\n",
       "      <td>71334.jpg</td>\n",
       "      <td>B</td>\n",
       "      <td>215</td>\n",
       "      <td>153</td>\n",
       "      <td>507</td>\n",
       "      <td>504</td>\n",
       "      <td>255528</td>\n",
       "      <td>1.005952</td>\n",
       "      <td>3</td>\n",
       "    </tr>\n",
       "    <tr>\n",
       "      <th>3</th>\n",
       "      <td>3</td>\n",
       "      <td>17095.jpg</td>\n",
       "      <td>A</td>\n",
       "      <td>265</td>\n",
       "      <td>76</td>\n",
       "      <td>598</td>\n",
       "      <td>576</td>\n",
       "      <td>344448</td>\n",
       "      <td>1.038194</td>\n",
       "      <td>2</td>\n",
       "    </tr>\n",
       "    <tr>\n",
       "      <th>4</th>\n",
       "      <td>4</td>\n",
       "      <td>48491.jpg</td>\n",
       "      <td>A</td>\n",
       "      <td>281</td>\n",
       "      <td>148</td>\n",
       "      <td>525</td>\n",
       "      <td>554</td>\n",
       "      <td>290850</td>\n",
       "      <td>1.055238</td>\n",
       "      <td>0</td>\n",
       "    </tr>\n",
       "  </tbody>\n",
       "</table>\n",
       "</div>"
      ],
      "text/plain": [
       "   Unnamed: 0   image_id grade  pos_x  pos_y  width  height    area  \\\n",
       "0           0  31191.jpg     A    345     95    516     530  273480   \n",
       "1           1  77679.jpg     A    310     73    569     520  295880   \n",
       "2           2  71334.jpg     B    215    153    507     504  255528   \n",
       "3           3  17095.jpg     A    265     76    598     576  344448   \n",
       "4           4  48491.jpg     A    281    148    525     554  290850   \n",
       "\n",
       "   square ratio  fold  \n",
       "0      1.027132     3  \n",
       "1      1.094231     4  \n",
       "2      1.005952     3  \n",
       "3      1.038194     2  \n",
       "4      1.055238     0  "
      ]
     },
     "execution_count": 8,
     "metadata": {},
     "output_type": "execute_result"
    }
   ],
   "source": [
    "all_df.head()"
   ]
  },
  {
   "cell_type": "code",
   "execution_count": 9,
   "metadata": {},
   "outputs": [],
   "source": [
    "# Data augmentation\n",
    "def get_train_transforms(resize_ratio):\n",
    "    base_resolution = 200\n",
    "    resize_h = int(base_resolution * resize_ratio)\n",
    "    resize_w = int(resize_h * 1.21)\n",
    "     \n",
    "    return transforms.Compose([\n",
    "        transforms.RandomHorizontalFlip(p=0.5),\n",
    "        transforms.RandomVerticalFlip(p=0.5),\n",
    "        #transforms.Resize((resize_h, resize_w)),\n",
    "        transforms.ToTensor(),\n",
    "        transforms.Normalize([0.485, 0.456, 0.406], [0.229, 0.224, 0.225])\n",
    "    ])\n",
    "\n",
    "def get_valid_transforms():\n",
    "    return transforms.Compose([\n",
    "        transforms.Resize((224, int(224*1.21))),\n",
    "        transforms.ToTensor(),\n",
    "        transforms.Normalize([0.485, 0.456, 0.406], [0.229, 0.224, 0.225])\n",
    "    ])"
   ]
  },
  {
   "cell_type": "code",
   "execution_count": 10,
   "metadata": {},
   "outputs": [],
   "source": [
    "class DatasetRetriever(Dataset):\n",
    "\n",
    "    def __init__(self, df, grade2class,train):\n",
    "        super().__init__()\n",
    "        \n",
    "        self.df = df                       # the processed csv file    \n",
    "        self.train = train\n",
    "        self.grade2class = grade2class\n",
    "        # self.new_transform()\n",
    "        if train: self.new_transform()\n",
    "        else: self.transforms = get_valid_transforms()\n",
    "        \n",
    "    # call this function to reset the size of training image\n",
    "    def new_transform(self):               \n",
    "        if self.train: self.transforms = get_train_transforms(random.uniform(1,2))\n",
    "\n",
    "    def __getitem__(self, index: int):\n",
    "        # load image\n",
    "        sample = self.df.iloc[index]\n",
    "        path = os.path.join(TRAIN_ROOT_PATH, sample['image_id'])\n",
    "        with open(path, 'rb') as f:\n",
    "            img = Image.open(f)\n",
    "            img.convert('RGB')\n",
    "        \n",
    "        target = torch.tensor(grade2class[sample['grade']], dtype=torch.int64)\n",
    "        img = self.transforms(img)\n",
    "        return img, target\n",
    "    \n",
    "    def __len__(self) -> int:\n",
    "        return self.df.shape[0]"
   ]
  },
  {
   "cell_type": "code",
   "execution_count": 11,
   "metadata": {
    "scrolled": true
   },
   "outputs": [
    {
     "data": {
      "text/plain": [
       "'\\ntrain_data = DatasetRetriever(all_df, grade2class, True)\\nloader = DataLoader(train_data,batch_size=10)\\n\\nfor data in loader:\\n    loader.dataset.new_transform()\\n    #display(trans(data[0][0]))\\n    print(data[0].shape, data[1].shape)\\n'"
      ]
     },
     "execution_count": 11,
     "metadata": {},
     "output_type": "execute_result"
    }
   ],
   "source": [
    "'''\n",
    "train_data = DatasetRetriever(all_df, grade2class, True)\n",
    "loader = DataLoader(train_data,batch_size=10)\n",
    "\n",
    "for data in loader:\n",
    "    loader.dataset.new_transform()\n",
    "    #display(trans(data[0][0]))\n",
    "    print(data[0].shape, data[1].shape)\n",
    "'''"
   ]
  },
  {
   "cell_type": "code",
   "execution_count": 12,
   "metadata": {},
   "outputs": [],
   "source": [
    "# instance DatasetRetriever\n",
    "train_data = DatasetRetriever(all_df[all_df['fold']!=FOLD_NUMBER], grade2class, train=True)\n",
    "val_data = DatasetRetriever(all_df[all_df['fold']==FOLD_NUMBER], grade2class, train=False)"
   ]
  },
  {
   "cell_type": "code",
   "execution_count": 13,
   "metadata": {},
   "outputs": [
    {
     "name": "stdout",
     "output_type": "stream",
     "text": [
      "torch.Size([3, 307, 371])\n",
      "torch.Size([])\n"
     ]
    }
   ],
   "source": [
    "img, tar = train_data[0]\n",
    "print(img.shape)\n",
    "print(tar.shape)"
   ]
  },
  {
   "cell_type": "code",
   "execution_count": 14,
   "metadata": {},
   "outputs": [],
   "source": [
    "class AverageMeter(object):\n",
    "    \"\"\"Computes and stores the average and current value\"\"\"\n",
    "    def __init__(self):\n",
    "        self.reset()\n",
    "\n",
    "    def reset(self):\n",
    "        self.val = 0\n",
    "        self.avg = 0\n",
    "        self.sum = 0\n",
    "        self.correct_count = 0\n",
    "        self.count = 0\n",
    "        self.acc = 0\n",
    "\n",
    "    def update(self, val, batch_size, ncorrect):\n",
    "        self.val = val\n",
    "        self.sum += val * batch_size\n",
    "        self.count += batch_size\n",
    "        self.correct_count += ncorrect\n",
    "        self.avg = self.sum / self.count"
   ]
  },
  {
   "cell_type": "code",
   "execution_count": 15,
   "metadata": {},
   "outputs": [],
   "source": [
    "def rightness(predictions, labels):\n",
    "    \n",
    "    pred = torch.max(predictions.data, 1)[1]   # the result of prediction\n",
    "    rights = pred.eq(labels.data.view_as(pred)).sum()  # count number of correct example\n",
    "    \n",
    "    return rights"
   ]
  },
  {
   "cell_type": "code",
   "execution_count": 16,
   "metadata": {},
   "outputs": [],
   "source": [
    "class Fitter:\n",
    "    def __init__(self, model, device, config):\n",
    "        # assign parameter\n",
    "        self.model = model\n",
    "        self.device = device\n",
    "        self.config = config\n",
    "        \n",
    "        self.epoch = config.n_epochs\n",
    "        \n",
    "        # the folder saving the trained model, if the folder is not exist, create it\n",
    "        self.base_dir = f'../{config.folder}'\n",
    "        if not os.path.exists(self.base_dir):\n",
    "            os.makedirs(self.base_dir)\n",
    "        \n",
    "        self.log_path = f'{self.base_dir}/log.txt'\n",
    "        self.best_loss = 10**5   \n",
    "        \n",
    "        \n",
    "        self.criterion = nn.CrossEntropyLoss()\n",
    "        self.optimizer = torch.optim.SGD(self.model.parameters(), lr=config.lr)\n",
    "        '''\n",
    "        torch.optim.lr_scheduler.ReduceLROnPlateau allows dynamic learning rate reducing based on \n",
    "        some validation measurements\n",
    "        '''\n",
    "        self.scheduler = config.SchedulerClass(self.optimizer, **config.scheduler_params)\n",
    "        \n",
    "        \n",
    "        self.log(f'Fitter prepared. Device is {self.device}') \n",
    "\n",
    "    def fit(self, train_loader, validation_loader):\n",
    "        for e in range(self.config.n_epochs):\n",
    "            if self.config.verbose:\n",
    "                lr = self.optimizer.param_groups[0]['lr']\n",
    "                timestamp = datetime.utcnow().isoformat()\n",
    "                self.log(f'\\n{timestamp}\\nLR: {lr}')\n",
    "            \n",
    "            # train\n",
    "            t = time.time()\n",
    "            loss = self.train_one_epoch(train_loader)\n",
    "            self.log(f'[RESULT]: Train. Epoch: {self.epoch}, loss: {loss.avg:.5f}, acc: {loss.acc:.5f},time: {(time.time() - t):.5f}')\n",
    "            self.save(f'{self.base_dir}/last-checkpoint.bin') \n",
    "            \n",
    "            # validation\n",
    "            t = time.time()\n",
    "            loss = self.validation(validation_loader)\n",
    "            self.log(f'[RESULT]: Val. Epoch: {self.epoch}, loss: {loss.avg:.5f}, acc: {loss.acc:.5f},time: {(time.time() - t):.5f}')\n",
    "            \n",
    "            # if the new model is better, save it, otherwise abandant\n",
    "            if loss.avg < self.best_loss:\n",
    "                self.best_loss = loss.avg\n",
    "                self.model.eval()\n",
    "                self.save(f'{self.base_dir}/best-checkpoint-{str(self.epoch).zfill(3)}epoch.bin')\n",
    "            \n",
    "            # update learning rate\n",
    "            if self.config.validation_scheduler:self.scheduler.step(metrics=loss.avg)\n",
    "            self.epoch += 1\n",
    "\n",
    "    def validation(self, val_loader):\n",
    "        self.model.eval()\n",
    "        \n",
    "        # record information\n",
    "        loss_recorder = AverageMeter()   \n",
    "        t = time.time()\n",
    "        \n",
    "        for step, (data, target) in enumerate(val_loader):\n",
    "            if self.config.verbose:\n",
    "                if step % self.config.verbose_step == 0:\n",
    "                    print(\n",
    "                        f'Val Step {step}/{len(val_loader)}, ' + \\\n",
    "                        f'loss: {loss_recorder.avg:.5f}, ' + \\\n",
    "                        f'time: {(time.time() - t):.5f}', end='\\r'\n",
    "                    )\n",
    "            with torch.no_grad():\n",
    "                batch_size = data.shape[0]\n",
    "                data, target = data.cuda(), target.cuda()\n",
    "\n",
    "                output = self.model(data)\n",
    "                loss = self.criterion(output, target)\n",
    "\n",
    "            loss_recorder.update(loss.detach().item(), batch_size, int(rightness(output, target).cpu()))\n",
    "\n",
    "            \n",
    "        loss_recorder.acc = loss_recorder.correct_count / loss_recorder.count\n",
    "        return loss_recorder\n",
    "\n",
    "    def train_one_epoch(self, train_loader):\n",
    "        self.model.train()\n",
    "        \n",
    "        loss_recorder = AverageMeter()\n",
    "        t = time.time()\n",
    "        \n",
    "        pbar = tqdm(total=len(train_loader))\n",
    "        for step, (data, target) in enumerate(train_loader):\n",
    "            train_loader.dataset.new_transform()\n",
    "            if self.config.verbose:\n",
    "                if step % self.config.verbose_step == 0:\n",
    "                    print(\n",
    "                        f'Train Step {step}/{len(train_loader)}, ' + \\\n",
    "                        f'loss: {loss_recorder.avg:.5f}, ' + \\\n",
    "                        f'time: {(time.time() - t):.5f}', end='\\r'\n",
    "                    )\n",
    "            \n",
    "            batch_size = data.shape[0]\n",
    "            data, target = data.cuda(), target.cuda()\n",
    "            output = self.model(data)\n",
    "            loss = self.criterion(output, target)\n",
    "            \n",
    "            self.optimizer.zero_grad()\n",
    "            loss.backward()\n",
    "            self.optimizer.step()\n",
    "            if self.config.step_scheduler: self.scheduler.step()\n",
    "            loss_recorder.update(loss.detach().item(), batch_size, int(rightness(output, target).cpu()))\n",
    "            pbar.update(1)\n",
    "\n",
    "        loss_recorder.acc = loss_recorder.correct_count / loss_recorder.count\n",
    "        return loss_recorder\n",
    "    \n",
    "    def save(self, path):\n",
    "        self.model.eval()\n",
    "        torch.save({\n",
    "            'model_state_dict': self.model.state_dict(),\n",
    "            'optimizer_state_dict': self.optimizer.state_dict(),\n",
    "            'scheduler_state_dict': self.scheduler.state_dict(),\n",
    "            'best_summary_loss': self.best_loss,\n",
    "            'epoch': self.epoch,\n",
    "        }, path)\n",
    "\n",
    "    def load(self, path):\n",
    "        checkpoint = torch.load(path)\n",
    "        self.model.model.load_state_dict(checkpoint['model_state_dict'])\n",
    "        self.optimizer.load_state_dict(checkpoint['optimizer_state_dict'])\n",
    "        self.scheduler.load_state_dict(checkpoint['scheduler_state_dict'])\n",
    "        self.best_summary_loss = checkpoint['best_loss']\n",
    "        self.epoch = checkpoint['epoch'] + 1\n",
    "    \n",
    "    # print and write information in log\n",
    "    def log(self, message):\n",
    "        if self.config.verbose:print(message)\n",
    "        with open(self.log_path, 'a+') as logger:\n",
    "            logger.write(f'{message}\\n')"
   ]
  },
  {
   "cell_type": "code",
   "execution_count": 17,
   "metadata": {},
   "outputs": [],
   "source": [
    "def run_training(net):\n",
    "    device = torch.device('cuda:0')\n",
    "    net.to(device)\n",
    "\n",
    "    train_loader = torch.utils.data.DataLoader(\n",
    "        train_data,\n",
    "        batch_size=TrainGlobalConfig.batch_size,\n",
    "        shuffle = True,\n",
    "        drop_last = False  # if the remaining sample is less than a batch, discard it\n",
    "    )\n",
    "    \n",
    "    val_loader = torch.utils.data.DataLoader(\n",
    "        val_data, \n",
    "        batch_size=TrainGlobalConfig.batch_size,\n",
    "        num_workers=8,\n",
    "        shuffle=False\n",
    "    )\n",
    "\n",
    "    fitter = Fitter(model=net, device=device, config=TrainGlobalConfig)\n",
    "    fitter.fit(train_loader, val_loader)"
   ]
  },
  {
   "cell_type": "code",
   "execution_count": 18,
   "metadata": {},
   "outputs": [
    {
     "name": "stderr",
     "output_type": "stream",
     "text": [
      "Downloading: \"https://github.com/lukemelas/EfficientNet-PyTorch/releases/download/1.0/efficientnet-b0-355c32eb.pth\" to /home/zxcvbn7222/.cache/torch/hub/checkpoints/efficientnet-b0-355c32eb.pth\n"
     ]
    },
    {
     "data": {
      "application/vnd.jupyter.widget-view+json": {
       "model_id": "313f94ac9b1243d7839b212ef828e8c7",
       "version_major": 2,
       "version_minor": 0
      },
      "text/plain": [
       "HBox(children=(FloatProgress(value=0.0, max=21388428.0), HTML(value='')))"
      ]
     },
     "metadata": {},
     "output_type": "display_data"
    },
    {
     "name": "stdout",
     "output_type": "stream",
     "text": [
      "\n",
      "Loaded pretrained weights for efficientnet-b0\n"
     ]
    }
   ],
   "source": [
    "from efficientnet_pytorch import EfficientNet\n",
    "model = EfficientNet.from_pretrained('efficientnet-b0')"
   ]
  },
  {
   "cell_type": "code",
   "execution_count": 20,
   "metadata": {},
   "outputs": [
    {
     "name": "stdout",
     "output_type": "stream",
     "text": [
      "Linear(in_features=1280, out_features=1000, bias=True)\n"
     ]
    }
   ],
   "source": [
    "print(model._fc)"
   ]
  },
  {
   "cell_type": "code",
   "execution_count": 19,
   "metadata": {},
   "outputs": [],
   "source": [
    "#model = models.resnet18(pretrained=True)\n",
    "#model.fc = nn.Linear(model.fc.in_features, NUMBER_OF_CLASSES)"
   ]
  },
  {
   "cell_type": "code",
   "execution_count": 20,
   "metadata": {},
   "outputs": [
    {
     "name": "stdout",
     "output_type": "stream",
     "text": [
      "Fitter prepared. Device is cuda:0\n",
      "\n",
      "2020-08-02T11:23:02.245793\n",
      "LR: 0.001\n"
     ]
    },
    {
     "data": {
      "application/vnd.jupyter.widget-view+json": {
       "model_id": "00281ccf29dd4fcdb42b7b0cac8b84ea",
       "version_major": 2,
       "version_minor": 0
      },
      "text/plain": [
       "HBox(children=(FloatProgress(value=0.0, max=3467.0), HTML(value='')))"
      ]
     },
     "metadata": {},
     "output_type": "display_data"
    },
    {
     "name": "stdout",
     "output_type": "stream",
     "text": [
      "[RESULT]: Train. Epoch: 40, loss: 1.57089, acc: 0.63240,time: 1416.31103\n",
      "[RESULT]: Val. Epoch: 40, loss: 1.15523, acc: 0.68385,time: 39.08877\n",
      "\n",
      "2020-08-02T11:47:17.787918\n",
      "LR: 0.001\n"
     ]
    },
    {
     "data": {
      "application/vnd.jupyter.widget-view+json": {
       "model_id": "94ac4db2f3f84891b01eb24037b9cf03",
       "version_major": 2,
       "version_minor": 0
      },
      "text/plain": [
       "HBox(children=(FloatProgress(value=0.0, max=3467.0), HTML(value='')))"
      ]
     },
     "metadata": {},
     "output_type": "display_data"
    },
    {
     "name": "stdout",
     "output_type": "stream",
     "text": [
      "[RESULT]: Train. Epoch: 41, loss: 0.76745, acc: 0.69748,time: 1419.43647\n",
      "[RESULT]: Val. Epoch: 41, loss: 0.86318, acc: 0.71760,time: 40.18635\n",
      "\n",
      "2020-08-02T12:11:37.585651\n",
      "LR: 0.001\n"
     ]
    },
    {
     "data": {
      "application/vnd.jupyter.widget-view+json": {
       "model_id": "cc7ba6a790f844c196b6acc0103ff902",
       "version_major": 2,
       "version_minor": 0
      },
      "text/plain": [
       "HBox(children=(FloatProgress(value=0.0, max=3467.0), HTML(value='')))"
      ]
     },
     "metadata": {},
     "output_type": "display_data"
    },
    {
     "name": "stdout",
     "output_type": "stream",
     "text": [
      "[RESULT]: Train. Epoch: 42, loss: 0.71848, acc: 0.71373,time: 1373.66419\n",
      "[RESULT]: Val. Epoch: 42, loss: 0.75680, acc: 0.73413,time: 39.19434\n",
      "\n",
      "2020-08-02T12:35:10.548120\n",
      "LR: 0.001\n"
     ]
    },
    {
     "data": {
      "application/vnd.jupyter.widget-view+json": {
       "model_id": "64b37281ef42444b9231d103d2f1d235",
       "version_major": 2,
       "version_minor": 0
      },
      "text/plain": [
       "HBox(children=(FloatProgress(value=0.0, max=3467.0), HTML(value='')))"
      ]
     },
     "metadata": {},
     "output_type": "display_data"
    },
    {
     "name": "stdout",
     "output_type": "stream",
     "text": [
      "[RESULT]: Train. Epoch: 43, loss: 0.68279, acc: 0.72623,time: 1356.56615\n",
      "[RESULT]: Val. Epoch: 43, loss: 0.77079, acc: 0.74279,time: 39.25549\n",
      "\n",
      "2020-08-02T12:58:26.437717\n",
      "LR: 0.001\n"
     ]
    },
    {
     "data": {
      "application/vnd.jupyter.widget-view+json": {
       "model_id": "0fa51898924b4e92a28403f7e2fa8b8c",
       "version_major": 2,
       "version_minor": 0
      },
      "text/plain": [
       "HBox(children=(FloatProgress(value=0.0, max=3467.0), HTML(value='')))"
      ]
     },
     "metadata": {},
     "output_type": "display_data"
    },
    {
     "name": "stdout",
     "output_type": "stream",
     "text": [
      "[RESULT]: Train. Epoch: 44, loss: 0.64539, acc: 0.73897,time: 1356.13342\n",
      "[RESULT]: Val. Epoch: 44, loss: 0.67801, acc: 0.75058,time: 38.62262\n",
      "\n",
      "2020-08-02T13:21:41.297167\n",
      "LR: 0.001\n"
     ]
    },
    {
     "data": {
      "application/vnd.jupyter.widget-view+json": {
       "model_id": "1310bd70c61847c4a47db0a094addc69",
       "version_major": 2,
       "version_minor": 0
      },
      "text/plain": [
       "HBox(children=(FloatProgress(value=0.0, max=3467.0), HTML(value='')))"
      ]
     },
     "metadata": {},
     "output_type": "display_data"
    },
    {
     "name": "stdout",
     "output_type": "stream",
     "text": [
      "[RESULT]: Train. Epoch: 45, loss: 0.62658, acc: 0.74606,time: 1387.20318\n",
      "[RESULT]: Val. Epoch: 45, loss: 0.66322, acc: 0.75990,time: 39.54981\n",
      "\n",
      "2020-08-02T13:45:28.167921\n",
      "LR: 0.001\n"
     ]
    },
    {
     "data": {
      "application/vnd.jupyter.widget-view+json": {
       "model_id": "8e8e4b85cfce48aba5fa1e545422e3a7",
       "version_major": 2,
       "version_minor": 0
      },
      "text/plain": [
       "HBox(children=(FloatProgress(value=0.0, max=3467.0), HTML(value='')))"
      ]
     },
     "metadata": {},
     "output_type": "display_data"
    },
    {
     "name": "stdout",
     "output_type": "stream",
     "text": [
      "[RESULT]: Train. Epoch: 46, loss: 0.61196, acc: 0.75413,time: 1317.72962\n",
      "[RESULT]: Val. Epoch: 46, loss: 0.63987, acc: 0.76750,time: 39.53700\n",
      "\n",
      "2020-08-02T14:08:05.568900\n",
      "LR: 0.001\n"
     ]
    },
    {
     "data": {
      "application/vnd.jupyter.widget-view+json": {
       "model_id": "0894a8a44eec4e14b55736c1bc3c32ea",
       "version_major": 2,
       "version_minor": 0
      },
      "text/plain": [
       "HBox(children=(FloatProgress(value=0.0, max=3467.0), HTML(value='')))"
      ]
     },
     "metadata": {},
     "output_type": "display_data"
    },
    {
     "name": "stdout",
     "output_type": "stream",
     "text": [
      "[RESULT]: Train. Epoch: 47, loss: 0.60419, acc: 0.75680,time: 1302.39920\n",
      "[RESULT]: Val. Epoch: 47, loss: 0.64071, acc: 0.76779,time: 38.81132\n",
      "\n",
      "2020-08-02T14:30:26.854459\n",
      "LR: 0.001\n"
     ]
    },
    {
     "data": {
      "application/vnd.jupyter.widget-view+json": {
       "model_id": "3183043d4fee472e8bd5d7f95689531c",
       "version_major": 2,
       "version_minor": 0
      },
      "text/plain": [
       "HBox(children=(FloatProgress(value=0.0, max=3467.0), HTML(value='')))"
      ]
     },
     "metadata": {},
     "output_type": "display_data"
    },
    {
     "name": "stdout",
     "output_type": "stream",
     "text": [
      "[RESULT]: Train. Epoch: 48, loss: 0.59404, acc: 0.76034,time: 1318.76815\n",
      "[RESULT]: Val. Epoch: 48, loss: 0.62990, acc: 0.77250,time: 39.23579\n",
      "\n",
      "2020-08-02T14:53:04.964536\n",
      "LR: 0.001\n"
     ]
    },
    {
     "data": {
      "application/vnd.jupyter.widget-view+json": {
       "model_id": "591211b72b81491497af8f2648926783",
       "version_major": 2,
       "version_minor": 0
      },
      "text/plain": [
       "HBox(children=(FloatProgress(value=0.0, max=3467.0), HTML(value='')))"
      ]
     },
     "metadata": {},
     "output_type": "display_data"
    },
    {
     "name": "stdout",
     "output_type": "stream",
     "text": [
      "[RESULT]: Train. Epoch: 49, loss: 0.58852, acc: 0.76373,time: 1352.47837\n",
      "[RESULT]: Val. Epoch: 49, loss: 0.62312, acc: 0.77240,time: 40.23380\n",
      "\n",
      "2020-08-02T15:16:17.789339\n",
      "LR: 0.001\n"
     ]
    },
    {
     "data": {
      "application/vnd.jupyter.widget-view+json": {
       "model_id": "c2c9c5ffefcd4ea28efd36acc25e4f4a",
       "version_major": 2,
       "version_minor": 0
      },
      "text/plain": [
       "HBox(children=(FloatProgress(value=0.0, max=3467.0), HTML(value='')))"
      ]
     },
     "metadata": {},
     "output_type": "display_data"
    },
    {
     "name": "stdout",
     "output_type": "stream",
     "text": [
      "[RESULT]: Train. Epoch: 50, loss: 0.58055, acc: 0.76618,time: 1228.55476\n",
      "[RESULT]: Val. Epoch: 50, loss: 0.61407, acc: 0.77606,time: 39.27491\n",
      "\n",
      "2020-08-02T15:37:25.740096\n",
      "LR: 0.001\n"
     ]
    },
    {
     "data": {
      "application/vnd.jupyter.widget-view+json": {
       "model_id": "a6cab971a07445799b3783803ff579a5",
       "version_major": 2,
       "version_minor": 0
      },
      "text/plain": [
       "HBox(children=(FloatProgress(value=0.0, max=3467.0), HTML(value='')))"
      ]
     },
     "metadata": {},
     "output_type": "display_data"
    },
    {
     "name": "stdout",
     "output_type": "stream",
     "text": [
      "[RESULT]: Train. Epoch: 51, loss: 0.56729, acc: 0.77281,time: 1278.20680\n",
      "[RESULT]: Val. Epoch: 51, loss: 0.59777, acc: 0.78115,time: 38.57949\n",
      "\n",
      "2020-08-02T15:59:22.631609\n",
      "LR: 0.001\n"
     ]
    },
    {
     "data": {
      "application/vnd.jupyter.widget-view+json": {
       "model_id": "533a5427db2748fbbb015aeee66630fc",
       "version_major": 2,
       "version_minor": 0
      },
      "text/plain": [
       "HBox(children=(FloatProgress(value=0.0, max=3467.0), HTML(value='')))"
      ]
     },
     "metadata": {},
     "output_type": "display_data"
    },
    {
     "name": "stdout",
     "output_type": "stream",
     "text": [
      "[RESULT]: Train. Epoch: 52, loss: 0.56239, acc: 0.77464,time: 1200.53425\n",
      "[RESULT]: Val. Epoch: 52, loss: 0.60179, acc: 0.77663,time: 38.58415\n",
      "\n",
      "2020-08-02T16:20:01.826945\n",
      "LR: 0.001\n"
     ]
    },
    {
     "data": {
      "application/vnd.jupyter.widget-view+json": {
       "model_id": "e8f4f029c8bb4862ba1aa2f9c6dae664",
       "version_major": 2,
       "version_minor": 0
      },
      "text/plain": [
       "HBox(children=(FloatProgress(value=0.0, max=3467.0), HTML(value='')))"
      ]
     },
     "metadata": {},
     "output_type": "display_data"
    },
    {
     "name": "stdout",
     "output_type": "stream",
     "text": [
      "[RESULT]: Train. Epoch: 53, loss: 0.55537, acc: 0.77666,time: 1215.65220\n",
      "[RESULT]: Val. Epoch: 53, loss: 0.58308, acc: 0.78298,time: 38.55151\n",
      "\n",
      "2020-08-02T16:40:56.134879\n",
      "LR: 0.001\n"
     ]
    },
    {
     "data": {
      "application/vnd.jupyter.widget-view+json": {
       "model_id": "481842d71d494fa7be124707a407890b",
       "version_major": 2,
       "version_minor": 0
      },
      "text/plain": [
       "HBox(children=(FloatProgress(value=0.0, max=3467.0), HTML(value='')))"
      ]
     },
     "metadata": {},
     "output_type": "display_data"
    },
    {
     "name": "stdout",
     "output_type": "stream",
     "text": [
      "[RESULT]: Train. Epoch: 54, loss: 0.55238, acc: 0.78149,time: 1204.26355\n",
      "[RESULT]: Val. Epoch: 54, loss: 0.58432, acc: 0.78058,time: 38.71900\n",
      "\n",
      "2020-08-02T17:01:39.202390\n",
      "LR: 0.001\n"
     ]
    },
    {
     "data": {
      "application/vnd.jupyter.widget-view+json": {
       "model_id": "720cc37453d948ccbee5910ea096f1e7",
       "version_major": 2,
       "version_minor": 0
      },
      "text/plain": [
       "HBox(children=(FloatProgress(value=0.0, max=3467.0), HTML(value='')))"
      ]
     },
     "metadata": {},
     "output_type": "display_data"
    },
    {
     "name": "stdout",
     "output_type": "stream",
     "text": [
      "[RESULT]: Train. Epoch: 55, loss: 0.54678, acc: 0.78010,time: 1195.04902\n",
      "[RESULT]: Val. Epoch: 55, loss: 0.60150, acc: 0.78260,time: 38.54071\n",
      "\n",
      "2020-08-02T17:22:12.858675\n",
      "LR: 0.0001\n"
     ]
    },
    {
     "data": {
      "application/vnd.jupyter.widget-view+json": {
       "model_id": "0812ef2c0f7448bda6741e2437188ee5",
       "version_major": 2,
       "version_minor": 0
      },
      "text/plain": [
       "HBox(children=(FloatProgress(value=0.0, max=3467.0), HTML(value='')))"
      ]
     },
     "metadata": {},
     "output_type": "display_data"
    },
    {
     "name": "stdout",
     "output_type": "stream",
     "text": [
      "[RESULT]: Train. Epoch: 56, loss: 0.54056, acc: 0.78481,time: 1218.79464\n",
      "[RESULT]: Val. Epoch: 56, loss: 0.56951, acc: 0.78404,time: 38.53783\n",
      "\n",
      "2020-08-02T17:43:10.296964\n",
      "LR: 0.0001\n"
     ]
    },
    {
     "data": {
      "application/vnd.jupyter.widget-view+json": {
       "model_id": "18e10395582d444fbd76625ad26ea7e4",
       "version_major": 2,
       "version_minor": 0
      },
      "text/plain": [
       "HBox(children=(FloatProgress(value=0.0, max=3467.0), HTML(value='')))"
      ]
     },
     "metadata": {},
     "output_type": "display_data"
    },
    {
     "name": "stdout",
     "output_type": "stream",
     "text": [
      "[RESULT]: Train. Epoch: 57, loss: 0.53714, acc: 0.78666,time: 1202.67033\n",
      "[RESULT]: Val. Epoch: 57, loss: 0.59850, acc: 0.78087,time: 38.45055\n",
      "\n",
      "2020-08-02T18:03:51.493073\n",
      "LR: 0.0001\n"
     ]
    },
    {
     "data": {
      "application/vnd.jupyter.widget-view+json": {
       "model_id": "9c6741d35f384231b3ee558be93e94c8",
       "version_major": 2,
       "version_minor": 0
      },
      "text/plain": [
       "HBox(children=(FloatProgress(value=0.0, max=3467.0), HTML(value='')))"
      ]
     },
     "metadata": {},
     "output_type": "display_data"
    },
    {
     "name": "stdout",
     "output_type": "stream",
     "text": [
      "[RESULT]: Train. Epoch: 58, loss: 0.53728, acc: 0.78481,time: 1204.76856\n",
      "[RESULT]: Val. Epoch: 58, loss: 0.56032, acc: 0.78673,time: 38.55355\n",
      "\n",
      "2020-08-02T18:24:34.923293\n",
      "LR: 0.0001\n"
     ]
    },
    {
     "data": {
      "application/vnd.jupyter.widget-view+json": {
       "model_id": "e93c09c5b3b04e0aa4318e22ff81dfc3",
       "version_major": 2,
       "version_minor": 0
      },
      "text/plain": [
       "HBox(children=(FloatProgress(value=0.0, max=3467.0), HTML(value='')))"
      ]
     },
     "metadata": {},
     "output_type": "display_data"
    },
    {
     "name": "stdout",
     "output_type": "stream",
     "text": [
      "[RESULT]: Train. Epoch: 59, loss: 0.53890, acc: 0.78433,time: 1200.78966\n",
      "[RESULT]: Val. Epoch: 59, loss: 0.56990, acc: 0.78500,time: 38.51017\n",
      "\n",
      "2020-08-02T18:45:14.298455\n",
      "LR: 0.0001\n"
     ]
    },
    {
     "data": {
      "application/vnd.jupyter.widget-view+json": {
       "model_id": "010687bfe39d4f35826e4eab44550f40",
       "version_major": 2,
       "version_minor": 0
      },
      "text/plain": [
       "HBox(children=(FloatProgress(value=0.0, max=3467.0), HTML(value='')))"
      ]
     },
     "metadata": {},
     "output_type": "display_data"
    },
    {
     "name": "stdout",
     "output_type": "stream",
     "text": [
      "[RESULT]: Train. Epoch: 60, loss: 0.54242, acc: 0.78250,time: 1208.14361\n",
      "[RESULT]: Val. Epoch: 60, loss: 0.56994, acc: 0.78471,time: 38.48773\n",
      "\n",
      "2020-08-02T19:06:01.001581\n",
      "LR: 1e-05\n"
     ]
    },
    {
     "data": {
      "application/vnd.jupyter.widget-view+json": {
       "model_id": "44c362b695ce43478b23db05b83f4922",
       "version_major": 2,
       "version_minor": 0
      },
      "text/plain": [
       "HBox(children=(FloatProgress(value=0.0, max=3467.0), HTML(value='')))"
      ]
     },
     "metadata": {},
     "output_type": "display_data"
    },
    {
     "name": "stdout",
     "output_type": "stream",
     "text": [
      "[RESULT]: Train. Epoch: 61, loss: 0.53858, acc: 0.78651,time: 1209.63895\n",
      "[RESULT]: Val. Epoch: 61, loss: 0.56396, acc: 0.78548,time: 38.54260\n",
      "\n",
      "2020-08-02T19:26:49.258468\n",
      "LR: 1e-05\n"
     ]
    },
    {
     "data": {
      "application/vnd.jupyter.widget-view+json": {
       "model_id": "49fe38f32f254e7383319dc29c1a115b",
       "version_major": 2,
       "version_minor": 0
      },
      "text/plain": [
       "HBox(children=(FloatProgress(value=0.0, max=3467.0), HTML(value='')))"
      ]
     },
     "metadata": {},
     "output_type": "display_data"
    },
    {
     "name": "stdout",
     "output_type": "stream",
     "text": [
      "[RESULT]: Train. Epoch: 62, loss: 0.54132, acc: 0.78279,time: 1196.07706\n",
      "[RESULT]: Val. Epoch: 62, loss: 0.57047, acc: 0.78423,time: 38.49859\n",
      "\n",
      "2020-08-02T19:47:23.908528\n",
      "LR: 1.0000000000000002e-06\n"
     ]
    },
    {
     "data": {
      "application/vnd.jupyter.widget-view+json": {
       "model_id": "c4dcd362259343429ab8ac60a131fe3f",
       "version_major": 2,
       "version_minor": 0
      },
      "text/plain": [
       "HBox(children=(FloatProgress(value=0.0, max=3467.0), HTML(value='')))"
      ]
     },
     "metadata": {},
     "output_type": "display_data"
    },
    {
     "name": "stdout",
     "output_type": "stream",
     "text": [
      "[RESULT]: Train. Epoch: 63, loss: 0.53923, acc: 0.78526,time: 1205.68773\n",
      "[RESULT]: Val. Epoch: 63, loss: 0.57966, acc: 0.78471,time: 38.59826\n",
      "\n",
      "2020-08-02T20:08:08.269957\n",
      "LR: 1.0000000000000002e-06\n"
     ]
    },
    {
     "data": {
      "application/vnd.jupyter.widget-view+json": {
       "model_id": "24d06a498b35425a9adf474a4ce100bd",
       "version_major": 2,
       "version_minor": 0
      },
      "text/plain": [
       "HBox(children=(FloatProgress(value=0.0, max=3467.0), HTML(value='')))"
      ]
     },
     "metadata": {},
     "output_type": "display_data"
    },
    {
     "name": "stdout",
     "output_type": "stream",
     "text": [
      "[RESULT]: Train. Epoch: 64, loss: 0.53594, acc: 0.78421,time: 1208.67017\n",
      "[RESULT]: Val. Epoch: 64, loss: 0.57042, acc: 0.78385,time: 38.48794\n",
      "\n",
      "2020-08-02T20:28:55.503707\n",
      "LR: 1.0000000000000002e-07\n"
     ]
    },
    {
     "data": {
      "application/vnd.jupyter.widget-view+json": {
       "model_id": "fccc13a2acf146d2a06cd6ae277376e3",
       "version_major": 2,
       "version_minor": 0
      },
      "text/plain": [
       "HBox(children=(FloatProgress(value=0.0, max=3467.0), HTML(value='')))"
      ]
     },
     "metadata": {},
     "output_type": "display_data"
    },
    {
     "name": "stdout",
     "output_type": "stream",
     "text": [
      "[RESULT]: Train. Epoch: 65, loss: 0.53843, acc: 0.78603,time: 1190.92792\n",
      "[RESULT]: Val. Epoch: 65, loss: 0.56608, acc: 0.78538,time: 38.52606\n",
      "\n",
      "2020-08-02T20:49:25.032582\n",
      "LR: 1.0000000000000002e-07\n"
     ]
    },
    {
     "data": {
      "application/vnd.jupyter.widget-view+json": {
       "model_id": "c9b9ad8ea7134c8d9de9c62d81ff00bf",
       "version_major": 2,
       "version_minor": 0
      },
      "text/plain": [
       "HBox(children=(FloatProgress(value=0.0, max=3467.0), HTML(value='')))"
      ]
     },
     "metadata": {},
     "output_type": "display_data"
    },
    {
     "name": "stdout",
     "output_type": "stream",
     "text": [
      "[RESULT]: Train. Epoch: 66, loss: 0.53844, acc: 0.78231,time: 1200.22307\n",
      "[RESULT]: Val. Epoch: 66, loss: 0.56645, acc: 0.78548,time: 38.50151\n",
      "\n",
      "2020-08-02T21:10:03.832064\n",
      "LR: 1.0000000000000002e-07\n"
     ]
    },
    {
     "data": {
      "application/vnd.jupyter.widget-view+json": {
       "model_id": "7e1f473421374b6f8d3954e136fb896b",
       "version_major": 2,
       "version_minor": 0
      },
      "text/plain": [
       "HBox(children=(FloatProgress(value=0.0, max=3467.0), HTML(value='')))"
      ]
     },
     "metadata": {},
     "output_type": "display_data"
    },
    {
     "name": "stdout",
     "output_type": "stream",
     "text": [
      "[RESULT]: Train. Epoch: 67, loss: 0.53714, acc: 0.78623,time: 1196.85907\n",
      "[RESULT]: Val. Epoch: 67, loss: 0.57667, acc: 0.78481,time: 38.45866\n",
      "\n",
      "2020-08-02T21:30:39.216525\n",
      "LR: 1.0000000000000002e-07\n"
     ]
    },
    {
     "data": {
      "application/vnd.jupyter.widget-view+json": {
       "model_id": "ba73d52f9ae9490292e63ec8d7fc2289",
       "version_major": 2,
       "version_minor": 0
      },
      "text/plain": [
       "HBox(children=(FloatProgress(value=0.0, max=3467.0), HTML(value='')))"
      ]
     },
     "metadata": {},
     "output_type": "display_data"
    },
    {
     "name": "stdout",
     "output_type": "stream",
     "text": [
      "[RESULT]: Train. Epoch: 68, loss: 0.53756, acc: 0.78550,time: 1186.44622\n",
      "[RESULT]: Val. Epoch: 68, loss: 0.56500, acc: 0.78596,time: 38.49552\n",
      "\n",
      "2020-08-02T21:51:04.232992\n",
      "LR: 1.0000000000000002e-07\n"
     ]
    },
    {
     "data": {
      "application/vnd.jupyter.widget-view+json": {
       "model_id": "24cc2446675b448c891d6781162bfa29",
       "version_major": 2,
       "version_minor": 0
      },
      "text/plain": [
       "HBox(children=(FloatProgress(value=0.0, max=3467.0), HTML(value='')))"
      ]
     },
     "metadata": {},
     "output_type": "display_data"
    },
    {
     "name": "stdout",
     "output_type": "stream",
     "text": [
      "[RESULT]: Train. Epoch: 69, loss: 0.53858, acc: 0.78493,time: 1191.17237\n",
      "[RESULT]: Val. Epoch: 69, loss: 0.54283, acc: 0.78904,time: 38.46444\n",
      "\n",
      "2020-08-02T22:11:33.970110\n",
      "LR: 1.0000000000000002e-07\n"
     ]
    },
    {
     "data": {
      "application/vnd.jupyter.widget-view+json": {
       "model_id": "0d39ce5469b4488a95dcc01bd570990c",
       "version_major": 2,
       "version_minor": 0
      },
      "text/plain": [
       "HBox(children=(FloatProgress(value=0.0, max=3467.0), HTML(value='')))"
      ]
     },
     "metadata": {},
     "output_type": "display_data"
    },
    {
     "name": "stdout",
     "output_type": "stream",
     "text": [
      "[RESULT]: Train. Epoch: 70, loss: 0.53842, acc: 0.78596,time: 1203.86922\n",
      "[RESULT]: Val. Epoch: 70, loss: 0.56322, acc: 0.78442,time: 38.48565\n",
      "\n",
      "2020-08-02T22:32:16.399838\n",
      "LR: 1.0000000000000002e-07\n"
     ]
    },
    {
     "data": {
      "application/vnd.jupyter.widget-view+json": {
       "model_id": "fcb67178a9234321852d4015380dced7",
       "version_major": 2,
       "version_minor": 0
      },
      "text/plain": [
       "HBox(children=(FloatProgress(value=0.0, max=3467.0), HTML(value='')))"
      ]
     },
     "metadata": {},
     "output_type": "display_data"
    },
    {
     "name": "stdout",
     "output_type": "stream",
     "text": [
      "[RESULT]: Train. Epoch: 71, loss: 0.54028, acc: 0.78425,time: 1197.55583\n",
      "[RESULT]: Val. Epoch: 71, loss: 0.55056, acc: 0.78769,time: 38.46510\n",
      "\n",
      "2020-08-02T22:52:52.495769\n",
      "LR: 1.0000000000000002e-07\n"
     ]
    },
    {
     "data": {
      "application/vnd.jupyter.widget-view+json": {
       "model_id": "3ebfe14bcfed44ff8dda417e39eee1f8",
       "version_major": 2,
       "version_minor": 0
      },
      "text/plain": [
       "HBox(children=(FloatProgress(value=0.0, max=3467.0), HTML(value='')))"
      ]
     },
     "metadata": {},
     "output_type": "display_data"
    },
    {
     "name": "stdout",
     "output_type": "stream",
     "text": [
      "Train Step 1052/3467, loss: 0.53593, time: 369.00236\r"
     ]
    },
    {
     "ename": "KeyboardInterrupt",
     "evalue": "",
     "output_type": "error",
     "traceback": [
      "\u001b[0;31m---------------------------------------------------------------------------\u001b[0m",
      "\u001b[0;31mKeyboardInterrupt\u001b[0m                         Traceback (most recent call last)",
      "\u001b[0;32m<ipython-input-20-bb62b3002640>\u001b[0m in \u001b[0;36m<module>\u001b[0;34m\u001b[0m\n\u001b[0;32m----> 1\u001b[0;31m \u001b[0mrun_training\u001b[0m\u001b[0;34m(\u001b[0m\u001b[0mmodel\u001b[0m\u001b[0;34m)\u001b[0m\u001b[0;34m\u001b[0m\u001b[0;34m\u001b[0m\u001b[0m\n\u001b[0m",
      "\u001b[0;32m<ipython-input-17-2b2c52340e24>\u001b[0m in \u001b[0;36mrun_training\u001b[0;34m(net)\u001b[0m\n\u001b[1;32m     18\u001b[0m \u001b[0;34m\u001b[0m\u001b[0m\n\u001b[1;32m     19\u001b[0m     \u001b[0mfitter\u001b[0m \u001b[0;34m=\u001b[0m \u001b[0mFitter\u001b[0m\u001b[0;34m(\u001b[0m\u001b[0mmodel\u001b[0m\u001b[0;34m=\u001b[0m\u001b[0mnet\u001b[0m\u001b[0;34m,\u001b[0m \u001b[0mdevice\u001b[0m\u001b[0;34m=\u001b[0m\u001b[0mdevice\u001b[0m\u001b[0;34m,\u001b[0m \u001b[0mconfig\u001b[0m\u001b[0;34m=\u001b[0m\u001b[0mTrainGlobalConfig\u001b[0m\u001b[0;34m)\u001b[0m\u001b[0;34m\u001b[0m\u001b[0;34m\u001b[0m\u001b[0m\n\u001b[0;32m---> 20\u001b[0;31m     \u001b[0mfitter\u001b[0m\u001b[0;34m.\u001b[0m\u001b[0mfit\u001b[0m\u001b[0;34m(\u001b[0m\u001b[0mtrain_loader\u001b[0m\u001b[0;34m,\u001b[0m \u001b[0mval_loader\u001b[0m\u001b[0;34m)\u001b[0m\u001b[0;34m\u001b[0m\u001b[0;34m\u001b[0m\u001b[0m\n\u001b[0m",
      "\u001b[0;32m<ipython-input-16-0e4929e20d99>\u001b[0m in \u001b[0;36mfit\u001b[0;34m(self, train_loader, validation_loader)\u001b[0m\n\u001b[1;32m     37\u001b[0m             \u001b[0;31m# train\u001b[0m\u001b[0;34m\u001b[0m\u001b[0;34m\u001b[0m\u001b[0;34m\u001b[0m\u001b[0m\n\u001b[1;32m     38\u001b[0m             \u001b[0mt\u001b[0m \u001b[0;34m=\u001b[0m \u001b[0mtime\u001b[0m\u001b[0;34m.\u001b[0m\u001b[0mtime\u001b[0m\u001b[0;34m(\u001b[0m\u001b[0;34m)\u001b[0m\u001b[0;34m\u001b[0m\u001b[0;34m\u001b[0m\u001b[0m\n\u001b[0;32m---> 39\u001b[0;31m             \u001b[0mloss\u001b[0m \u001b[0;34m=\u001b[0m \u001b[0mself\u001b[0m\u001b[0;34m.\u001b[0m\u001b[0mtrain_one_epoch\u001b[0m\u001b[0;34m(\u001b[0m\u001b[0mtrain_loader\u001b[0m\u001b[0;34m)\u001b[0m\u001b[0;34m\u001b[0m\u001b[0;34m\u001b[0m\u001b[0m\n\u001b[0m\u001b[1;32m     40\u001b[0m             \u001b[0mself\u001b[0m\u001b[0;34m.\u001b[0m\u001b[0mlog\u001b[0m\u001b[0;34m(\u001b[0m\u001b[0;34mf'[RESULT]: Train. Epoch: {self.epoch}, loss: {loss.avg:.5f}, acc: {loss.acc:.5f},time: {(time.time() - t):.5f}'\u001b[0m\u001b[0;34m)\u001b[0m\u001b[0;34m\u001b[0m\u001b[0;34m\u001b[0m\u001b[0m\n\u001b[1;32m     41\u001b[0m             \u001b[0mself\u001b[0m\u001b[0;34m.\u001b[0m\u001b[0msave\u001b[0m\u001b[0;34m(\u001b[0m\u001b[0;34mf'{self.base_dir}/last-checkpoint.bin'\u001b[0m\u001b[0;34m)\u001b[0m\u001b[0;34m\u001b[0m\u001b[0;34m\u001b[0m\u001b[0m\n",
      "\u001b[0;32m<ipython-input-16-0e4929e20d99>\u001b[0m in \u001b[0;36mtrain_one_epoch\u001b[0;34m(self, train_loader)\u001b[0m\n\u001b[1;32m    110\u001b[0m             \u001b[0mself\u001b[0m\u001b[0;34m.\u001b[0m\u001b[0moptimizer\u001b[0m\u001b[0;34m.\u001b[0m\u001b[0mstep\u001b[0m\u001b[0;34m(\u001b[0m\u001b[0;34m)\u001b[0m\u001b[0;34m\u001b[0m\u001b[0;34m\u001b[0m\u001b[0m\n\u001b[1;32m    111\u001b[0m             \u001b[0;32mif\u001b[0m \u001b[0mself\u001b[0m\u001b[0;34m.\u001b[0m\u001b[0mconfig\u001b[0m\u001b[0;34m.\u001b[0m\u001b[0mstep_scheduler\u001b[0m\u001b[0;34m:\u001b[0m \u001b[0mself\u001b[0m\u001b[0;34m.\u001b[0m\u001b[0mscheduler\u001b[0m\u001b[0;34m.\u001b[0m\u001b[0mstep\u001b[0m\u001b[0;34m(\u001b[0m\u001b[0;34m)\u001b[0m\u001b[0;34m\u001b[0m\u001b[0;34m\u001b[0m\u001b[0m\n\u001b[0;32m--> 112\u001b[0;31m             \u001b[0mloss_recorder\u001b[0m\u001b[0;34m.\u001b[0m\u001b[0mupdate\u001b[0m\u001b[0;34m(\u001b[0m\u001b[0mloss\u001b[0m\u001b[0;34m.\u001b[0m\u001b[0mdetach\u001b[0m\u001b[0;34m(\u001b[0m\u001b[0;34m)\u001b[0m\u001b[0;34m.\u001b[0m\u001b[0mitem\u001b[0m\u001b[0;34m(\u001b[0m\u001b[0;34m)\u001b[0m\u001b[0;34m,\u001b[0m \u001b[0mbatch_size\u001b[0m\u001b[0;34m,\u001b[0m \u001b[0mint\u001b[0m\u001b[0;34m(\u001b[0m\u001b[0mrightness\u001b[0m\u001b[0;34m(\u001b[0m\u001b[0moutput\u001b[0m\u001b[0;34m,\u001b[0m \u001b[0mtarget\u001b[0m\u001b[0;34m)\u001b[0m\u001b[0;34m.\u001b[0m\u001b[0mcpu\u001b[0m\u001b[0;34m(\u001b[0m\u001b[0;34m)\u001b[0m\u001b[0;34m)\u001b[0m\u001b[0;34m)\u001b[0m\u001b[0;34m\u001b[0m\u001b[0;34m\u001b[0m\u001b[0m\n\u001b[0m\u001b[1;32m    113\u001b[0m             \u001b[0mpbar\u001b[0m\u001b[0;34m.\u001b[0m\u001b[0mupdate\u001b[0m\u001b[0;34m(\u001b[0m\u001b[0;36m1\u001b[0m\u001b[0;34m)\u001b[0m\u001b[0;34m\u001b[0m\u001b[0;34m\u001b[0m\u001b[0m\n\u001b[1;32m    114\u001b[0m \u001b[0;34m\u001b[0m\u001b[0m\n",
      "\u001b[0;31mKeyboardInterrupt\u001b[0m: "
     ]
    }
   ],
   "source": [
    "run_training(model)"
   ]
  },
  {
   "cell_type": "code",
   "execution_count": null,
   "metadata": {},
   "outputs": [],
   "source": []
  },
  {
   "cell_type": "code",
   "execution_count": null,
   "metadata": {},
   "outputs": [],
   "source": []
  }
 ],
 "metadata": {
  "kernelspec": {
   "display_name": "Python 3",
   "language": "python",
   "name": "python3"
  },
  "language_info": {
   "codemirror_mode": {
    "name": "ipython",
    "version": 3
   },
   "file_extension": ".py",
   "mimetype": "text/x-python",
   "name": "python",
   "nbconvert_exporter": "python",
   "pygments_lexer": "ipython3",
   "version": "3.6.10"
  }
 },
 "nbformat": 4,
 "nbformat_minor": 4
}
